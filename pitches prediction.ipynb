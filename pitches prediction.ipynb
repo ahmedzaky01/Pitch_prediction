{
 "cells": [
  {
   "cell_type": "markdown",
   "metadata": {},
   "source": [
    "### I will divide the project into Four parts:\n",
    "\n",
    "##### (1) Exploring and Cleaning the Data\n",
    "\n",
    "##### (2) Feature Engineering\n",
    "\n",
    "##### (3) Choosing and building the Model\n",
    "\n",
    "##### (4) How to further improve the Model"
   ]
  },
  {
   "cell_type": "markdown",
   "metadata": {},
   "source": [
    "#### First I downloaded the zip file on my local machine and extracted the csv file and uploaded it to my anaconda and now I will read to make sense of the data"
   ]
  },
  {
   "cell_type": "markdown",
   "metadata": {},
   "source": [
    "# (1) Exploring and Cleaning the Data "
   ]
  },
  {
   "cell_type": "code",
   "execution_count": 20,
   "metadata": {},
   "outputs": [],
   "source": [
    "# First we need to import the necessary libraries \n",
    "import pandas as pd\n",
    "import numpy as np\n",
    "import matplotlib.pyplot as plt\n",
    "import seaborn as sns\n",
    "%matplotlib inline"
   ]
  },
  {
   "cell_type": "code",
   "execution_count": 21,
   "metadata": {},
   "outputs": [
    {
     "name": "stderr",
     "output_type": "stream",
     "text": [
      "C:\\anaconda\\anaconda\\lib\\site-packages\\IPython\\core\\interactiveshell.py:3020: DtypeWarning: Columns (29,30) have mixed types. Specify dtype option on import or set low_memory=False.\n",
      "  interactivity=interactivity, compiler=compiler, result=result)\n"
     ]
    }
   ],
   "source": [
    "pitches = pd.read_csv('pitches.csv')"
   ]
  },
  {
   "cell_type": "code",
   "execution_count": 22,
   "metadata": {},
   "outputs": [
    {
     "data": {
      "text/html": [
       "<div>\n",
       "<style scoped>\n",
       "    .dataframe tbody tr th:only-of-type {\n",
       "        vertical-align: middle;\n",
       "    }\n",
       "\n",
       "    .dataframe tbody tr th {\n",
       "        vertical-align: top;\n",
       "    }\n",
       "\n",
       "    .dataframe thead th {\n",
       "        text-align: right;\n",
       "    }\n",
       "</style>\n",
       "<table border=\"1\" class=\"dataframe\">\n",
       "  <thead>\n",
       "    <tr style=\"text-align: right;\">\n",
       "      <th></th>\n",
       "      <th>uid</th>\n",
       "      <th>game_pk</th>\n",
       "      <th>year</th>\n",
       "      <th>date</th>\n",
       "      <th>team_id_b</th>\n",
       "      <th>team_id_p</th>\n",
       "      <th>inning</th>\n",
       "      <th>top</th>\n",
       "      <th>at_bat_num</th>\n",
       "      <th>pcount_at_bat</th>\n",
       "      <th>...</th>\n",
       "      <th>runner7_start</th>\n",
       "      <th>runner7_end</th>\n",
       "      <th>runner7_event</th>\n",
       "      <th>runner7_score</th>\n",
       "      <th>runner7_rbi</th>\n",
       "      <th>runner7_earned</th>\n",
       "      <th>created_at</th>\n",
       "      <th>added_at</th>\n",
       "      <th>modified_at</th>\n",
       "      <th>modified_by</th>\n",
       "    </tr>\n",
       "  </thead>\n",
       "  <tbody>\n",
       "    <tr>\n",
       "      <th>0</th>\n",
       "      <td>14143226</td>\n",
       "      <td>286874</td>\n",
       "      <td>2011</td>\n",
       "      <td>2011-03-31</td>\n",
       "      <td>108</td>\n",
       "      <td>118</td>\n",
       "      <td>1</td>\n",
       "      <td>1</td>\n",
       "      <td>1</td>\n",
       "      <td>1</td>\n",
       "      <td>...</td>\n",
       "      <td>NaN</td>\n",
       "      <td>NaN</td>\n",
       "      <td>NaN</td>\n",
       "      <td>NaN</td>\n",
       "      <td>NaN</td>\n",
       "      <td>NaN</td>\n",
       "      <td>2016-03-03 21:33:20</td>\n",
       "      <td>2016-03-03 21:33:20</td>\n",
       "      <td>2016-03-03 21:33:20</td>\n",
       "      <td>1</td>\n",
       "    </tr>\n",
       "    <tr>\n",
       "      <th>1</th>\n",
       "      <td>14143227</td>\n",
       "      <td>286874</td>\n",
       "      <td>2011</td>\n",
       "      <td>2011-03-31</td>\n",
       "      <td>108</td>\n",
       "      <td>118</td>\n",
       "      <td>1</td>\n",
       "      <td>1</td>\n",
       "      <td>1</td>\n",
       "      <td>2</td>\n",
       "      <td>...</td>\n",
       "      <td>NaN</td>\n",
       "      <td>NaN</td>\n",
       "      <td>NaN</td>\n",
       "      <td>NaN</td>\n",
       "      <td>NaN</td>\n",
       "      <td>NaN</td>\n",
       "      <td>2016-03-03 21:33:20</td>\n",
       "      <td>2016-03-03 21:33:20</td>\n",
       "      <td>2016-03-03 21:33:20</td>\n",
       "      <td>1</td>\n",
       "    </tr>\n",
       "    <tr>\n",
       "      <th>2</th>\n",
       "      <td>14143228</td>\n",
       "      <td>286874</td>\n",
       "      <td>2011</td>\n",
       "      <td>2011-03-31</td>\n",
       "      <td>108</td>\n",
       "      <td>118</td>\n",
       "      <td>1</td>\n",
       "      <td>1</td>\n",
       "      <td>1</td>\n",
       "      <td>3</td>\n",
       "      <td>...</td>\n",
       "      <td>NaN</td>\n",
       "      <td>NaN</td>\n",
       "      <td>NaN</td>\n",
       "      <td>NaN</td>\n",
       "      <td>NaN</td>\n",
       "      <td>NaN</td>\n",
       "      <td>2016-03-03 21:33:20</td>\n",
       "      <td>2016-03-03 21:33:20</td>\n",
       "      <td>2016-03-03 21:33:20</td>\n",
       "      <td>1</td>\n",
       "    </tr>\n",
       "    <tr>\n",
       "      <th>3</th>\n",
       "      <td>14143229</td>\n",
       "      <td>286874</td>\n",
       "      <td>2011</td>\n",
       "      <td>2011-03-31</td>\n",
       "      <td>108</td>\n",
       "      <td>118</td>\n",
       "      <td>1</td>\n",
       "      <td>1</td>\n",
       "      <td>1</td>\n",
       "      <td>4</td>\n",
       "      <td>...</td>\n",
       "      <td>NaN</td>\n",
       "      <td>NaN</td>\n",
       "      <td>NaN</td>\n",
       "      <td>NaN</td>\n",
       "      <td>NaN</td>\n",
       "      <td>NaN</td>\n",
       "      <td>2016-03-03 21:33:20</td>\n",
       "      <td>2016-03-03 21:33:20</td>\n",
       "      <td>2016-03-03 21:33:20</td>\n",
       "      <td>1</td>\n",
       "    </tr>\n",
       "    <tr>\n",
       "      <th>4</th>\n",
       "      <td>14143230</td>\n",
       "      <td>286874</td>\n",
       "      <td>2011</td>\n",
       "      <td>2011-03-31</td>\n",
       "      <td>108</td>\n",
       "      <td>118</td>\n",
       "      <td>1</td>\n",
       "      <td>1</td>\n",
       "      <td>2</td>\n",
       "      <td>1</td>\n",
       "      <td>...</td>\n",
       "      <td>NaN</td>\n",
       "      <td>NaN</td>\n",
       "      <td>NaN</td>\n",
       "      <td>NaN</td>\n",
       "      <td>NaN</td>\n",
       "      <td>NaN</td>\n",
       "      <td>2016-03-03 21:33:20</td>\n",
       "      <td>2016-03-03 21:33:20</td>\n",
       "      <td>2016-03-03 21:33:20</td>\n",
       "      <td>1</td>\n",
       "    </tr>\n",
       "    <tr>\n",
       "      <th>5</th>\n",
       "      <td>14143231</td>\n",
       "      <td>286874</td>\n",
       "      <td>2011</td>\n",
       "      <td>2011-03-31</td>\n",
       "      <td>108</td>\n",
       "      <td>118</td>\n",
       "      <td>1</td>\n",
       "      <td>1</td>\n",
       "      <td>2</td>\n",
       "      <td>2</td>\n",
       "      <td>...</td>\n",
       "      <td>NaN</td>\n",
       "      <td>NaN</td>\n",
       "      <td>NaN</td>\n",
       "      <td>NaN</td>\n",
       "      <td>NaN</td>\n",
       "      <td>NaN</td>\n",
       "      <td>2016-03-03 21:33:20</td>\n",
       "      <td>2016-03-03 21:33:20</td>\n",
       "      <td>2016-03-03 21:33:20</td>\n",
       "      <td>1</td>\n",
       "    </tr>\n",
       "    <tr>\n",
       "      <th>6</th>\n",
       "      <td>14143232</td>\n",
       "      <td>286874</td>\n",
       "      <td>2011</td>\n",
       "      <td>2011-03-31</td>\n",
       "      <td>108</td>\n",
       "      <td>118</td>\n",
       "      <td>1</td>\n",
       "      <td>1</td>\n",
       "      <td>2</td>\n",
       "      <td>3</td>\n",
       "      <td>...</td>\n",
       "      <td>NaN</td>\n",
       "      <td>NaN</td>\n",
       "      <td>NaN</td>\n",
       "      <td>NaN</td>\n",
       "      <td>NaN</td>\n",
       "      <td>NaN</td>\n",
       "      <td>2016-03-03 21:33:20</td>\n",
       "      <td>2016-03-03 21:33:20</td>\n",
       "      <td>2016-03-03 21:33:20</td>\n",
       "      <td>1</td>\n",
       "    </tr>\n",
       "    <tr>\n",
       "      <th>7</th>\n",
       "      <td>14143233</td>\n",
       "      <td>286874</td>\n",
       "      <td>2011</td>\n",
       "      <td>2011-03-31</td>\n",
       "      <td>108</td>\n",
       "      <td>118</td>\n",
       "      <td>1</td>\n",
       "      <td>1</td>\n",
       "      <td>2</td>\n",
       "      <td>4</td>\n",
       "      <td>...</td>\n",
       "      <td>NaN</td>\n",
       "      <td>NaN</td>\n",
       "      <td>NaN</td>\n",
       "      <td>NaN</td>\n",
       "      <td>NaN</td>\n",
       "      <td>NaN</td>\n",
       "      <td>2016-03-03 21:33:20</td>\n",
       "      <td>2016-03-03 21:33:20</td>\n",
       "      <td>2016-03-03 21:33:20</td>\n",
       "      <td>1</td>\n",
       "    </tr>\n",
       "    <tr>\n",
       "      <th>8</th>\n",
       "      <td>14143234</td>\n",
       "      <td>286874</td>\n",
       "      <td>2011</td>\n",
       "      <td>2011-03-31</td>\n",
       "      <td>108</td>\n",
       "      <td>118</td>\n",
       "      <td>1</td>\n",
       "      <td>1</td>\n",
       "      <td>2</td>\n",
       "      <td>5</td>\n",
       "      <td>...</td>\n",
       "      <td>NaN</td>\n",
       "      <td>NaN</td>\n",
       "      <td>NaN</td>\n",
       "      <td>NaN</td>\n",
       "      <td>NaN</td>\n",
       "      <td>NaN</td>\n",
       "      <td>2016-03-03 21:33:20</td>\n",
       "      <td>2016-03-03 21:33:20</td>\n",
       "      <td>2016-03-03 21:33:20</td>\n",
       "      <td>1</td>\n",
       "    </tr>\n",
       "    <tr>\n",
       "      <th>9</th>\n",
       "      <td>14143235</td>\n",
       "      <td>286874</td>\n",
       "      <td>2011</td>\n",
       "      <td>2011-03-31</td>\n",
       "      <td>108</td>\n",
       "      <td>118</td>\n",
       "      <td>1</td>\n",
       "      <td>1</td>\n",
       "      <td>2</td>\n",
       "      <td>6</td>\n",
       "      <td>...</td>\n",
       "      <td>NaN</td>\n",
       "      <td>NaN</td>\n",
       "      <td>NaN</td>\n",
       "      <td>NaN</td>\n",
       "      <td>NaN</td>\n",
       "      <td>NaN</td>\n",
       "      <td>2016-03-03 21:33:20</td>\n",
       "      <td>2016-03-03 21:33:20</td>\n",
       "      <td>2016-03-03 21:33:20</td>\n",
       "      <td>1</td>\n",
       "    </tr>\n",
       "    <tr>\n",
       "      <th>10</th>\n",
       "      <td>14143236</td>\n",
       "      <td>286874</td>\n",
       "      <td>2011</td>\n",
       "      <td>2011-03-31</td>\n",
       "      <td>108</td>\n",
       "      <td>118</td>\n",
       "      <td>1</td>\n",
       "      <td>1</td>\n",
       "      <td>3</td>\n",
       "      <td>1</td>\n",
       "      <td>...</td>\n",
       "      <td>NaN</td>\n",
       "      <td>NaN</td>\n",
       "      <td>NaN</td>\n",
       "      <td>NaN</td>\n",
       "      <td>NaN</td>\n",
       "      <td>NaN</td>\n",
       "      <td>2016-03-03 21:33:20</td>\n",
       "      <td>2016-03-03 21:33:20</td>\n",
       "      <td>2016-03-03 21:33:20</td>\n",
       "      <td>1</td>\n",
       "    </tr>\n",
       "  </tbody>\n",
       "</table>\n",
       "<p>11 rows × 125 columns</p>\n",
       "</div>"
      ],
      "text/plain": [
       "         uid  game_pk  year        date  team_id_b  team_id_p  inning  top  \\\n",
       "0   14143226   286874  2011  2011-03-31        108        118       1    1   \n",
       "1   14143227   286874  2011  2011-03-31        108        118       1    1   \n",
       "2   14143228   286874  2011  2011-03-31        108        118       1    1   \n",
       "3   14143229   286874  2011  2011-03-31        108        118       1    1   \n",
       "4   14143230   286874  2011  2011-03-31        108        118       1    1   \n",
       "5   14143231   286874  2011  2011-03-31        108        118       1    1   \n",
       "6   14143232   286874  2011  2011-03-31        108        118       1    1   \n",
       "7   14143233   286874  2011  2011-03-31        108        118       1    1   \n",
       "8   14143234   286874  2011  2011-03-31        108        118       1    1   \n",
       "9   14143235   286874  2011  2011-03-31        108        118       1    1   \n",
       "10  14143236   286874  2011  2011-03-31        108        118       1    1   \n",
       "\n",
       "    at_bat_num  pcount_at_bat     ...       runner7_start  runner7_end  \\\n",
       "0            1              1     ...                 NaN          NaN   \n",
       "1            1              2     ...                 NaN          NaN   \n",
       "2            1              3     ...                 NaN          NaN   \n",
       "3            1              4     ...                 NaN          NaN   \n",
       "4            2              1     ...                 NaN          NaN   \n",
       "5            2              2     ...                 NaN          NaN   \n",
       "6            2              3     ...                 NaN          NaN   \n",
       "7            2              4     ...                 NaN          NaN   \n",
       "8            2              5     ...                 NaN          NaN   \n",
       "9            2              6     ...                 NaN          NaN   \n",
       "10           3              1     ...                 NaN          NaN   \n",
       "\n",
       "    runner7_event  runner7_score  runner7_rbi  runner7_earned  \\\n",
       "0             NaN            NaN          NaN             NaN   \n",
       "1             NaN            NaN          NaN             NaN   \n",
       "2             NaN            NaN          NaN             NaN   \n",
       "3             NaN            NaN          NaN             NaN   \n",
       "4             NaN            NaN          NaN             NaN   \n",
       "5             NaN            NaN          NaN             NaN   \n",
       "6             NaN            NaN          NaN             NaN   \n",
       "7             NaN            NaN          NaN             NaN   \n",
       "8             NaN            NaN          NaN             NaN   \n",
       "9             NaN            NaN          NaN             NaN   \n",
       "10            NaN            NaN          NaN             NaN   \n",
       "\n",
       "             created_at             added_at          modified_at  modified_by  \n",
       "0   2016-03-03 21:33:20  2016-03-03 21:33:20  2016-03-03 21:33:20            1  \n",
       "1   2016-03-03 21:33:20  2016-03-03 21:33:20  2016-03-03 21:33:20            1  \n",
       "2   2016-03-03 21:33:20  2016-03-03 21:33:20  2016-03-03 21:33:20            1  \n",
       "3   2016-03-03 21:33:20  2016-03-03 21:33:20  2016-03-03 21:33:20            1  \n",
       "4   2016-03-03 21:33:20  2016-03-03 21:33:20  2016-03-03 21:33:20            1  \n",
       "5   2016-03-03 21:33:20  2016-03-03 21:33:20  2016-03-03 21:33:20            1  \n",
       "6   2016-03-03 21:33:20  2016-03-03 21:33:20  2016-03-03 21:33:20            1  \n",
       "7   2016-03-03 21:33:20  2016-03-03 21:33:20  2016-03-03 21:33:20            1  \n",
       "8   2016-03-03 21:33:20  2016-03-03 21:33:20  2016-03-03 21:33:20            1  \n",
       "9   2016-03-03 21:33:20  2016-03-03 21:33:20  2016-03-03 21:33:20            1  \n",
       "10  2016-03-03 21:33:20  2016-03-03 21:33:20  2016-03-03 21:33:20            1  \n",
       "\n",
       "[11 rows x 125 columns]"
      ]
     },
     "execution_count": 22,
     "metadata": {},
     "output_type": "execute_result"
    }
   ],
   "source": [
    "# let's take a look at the data\n",
    "pitches.head(11)"
   ]
  },
  {
   "cell_type": "code",
   "execution_count": 23,
   "metadata": {},
   "outputs": [
    {
     "data": {
      "text/plain": [
       "(718961, 125)"
      ]
     },
     "execution_count": 23,
     "metadata": {},
     "output_type": "execute_result"
    }
   ],
   "source": [
    "# let's take a look at how big the dataset is\n",
    "pitches.shape"
   ]
  },
  {
   "cell_type": "code",
   "execution_count": 24,
   "metadata": {},
   "outputs": [],
   "source": [
    "#First we want to drop coloumns that have all nans\n",
    "pitches = pitches.dropna(axis=1, how='all')"
   ]
  },
  {
   "cell_type": "code",
   "execution_count": 25,
   "metadata": {},
   "outputs": [
    {
     "data": {
      "text/plain": [
       "(718961, 76)"
      ]
     },
     "execution_count": 25,
     "metadata": {},
     "output_type": "execute_result"
    }
   ],
   "source": [
    "# let's take a look at the dataset now\n",
    "pitches.shape"
   ]
  },
  {
   "cell_type": "code",
   "execution_count": 26,
   "metadata": {},
   "outputs": [],
   "source": [
    "# ok so there were 49 coloumns that only have nan values"
   ]
  },
  {
   "cell_type": "code",
   "execution_count": 27,
   "metadata": {},
   "outputs": [
    {
     "name": "stdout",
     "output_type": "stream",
     "text": [
      "<class 'pandas.core.frame.DataFrame'>\n",
      "RangeIndex: 718961 entries, 0 to 718960\n",
      "Data columns (total 76 columns):\n",
      "uid                718961 non-null int64\n",
      "game_pk            718961 non-null int64\n",
      "year               718961 non-null int64\n",
      "date               718961 non-null object\n",
      "team_id_b          718961 non-null int64\n",
      "team_id_p          718961 non-null int64\n",
      "inning             718961 non-null int64\n",
      "top                718961 non-null int64\n",
      "at_bat_num         718961 non-null int64\n",
      "pcount_at_bat      718961 non-null int64\n",
      "pcount_pitcher     718961 non-null int64\n",
      "balls              718961 non-null int64\n",
      "strikes            718961 non-null int64\n",
      "fouls              718961 non-null int64\n",
      "outs               718961 non-null int64\n",
      "is_final_pitch     718961 non-null int64\n",
      "final_balls        718961 non-null int64\n",
      "final_strikes      718961 non-null int64\n",
      "final_outs         718961 non-null int64\n",
      "start_tfs          718961 non-null int64\n",
      "start_tfs_zulu     718961 non-null object\n",
      "batter_id          718961 non-null int64\n",
      "stand              718961 non-null object\n",
      "b_height           718961 non-null object\n",
      "pitcher_id         718961 non-null int64\n",
      "p_throws           718961 non-null object\n",
      "at_bat_des         718961 non-null object\n",
      "event              718961 non-null object\n",
      "event2             8299 non-null object\n",
      "event3             334 non-null object\n",
      "event4             23 non-null object\n",
      "away_team_runs     718961 non-null int64\n",
      "home_team_runs     718961 non-null int64\n",
      "score              56096 non-null object\n",
      "pitch_des          718961 non-null object\n",
      "pitch_id           718961 non-null int64\n",
      "type               718961 non-null object\n",
      "pitch_tfs          718659 non-null float64\n",
      "pitch_tfs_zulu     718659 non-null object\n",
      "x                  718961 non-null float64\n",
      "y                  718961 non-null float64\n",
      "sv_id              716681 non-null object\n",
      "start_speed        716681 non-null float64\n",
      "end_speed          716681 non-null float64\n",
      "sz_top             716681 non-null float64\n",
      "sz_bot             716681 non-null float64\n",
      "pfx_x              716681 non-null float64\n",
      "pfx_z              716681 non-null float64\n",
      "px                 716681 non-null float64\n",
      "pz                 716681 non-null float64\n",
      "x0                 716681 non-null float64\n",
      "z0                 716681 non-null float64\n",
      "y0                 716681 non-null float64\n",
      "vx0                716681 non-null float64\n",
      "vz0                716681 non-null float64\n",
      "vy0                716681 non-null float64\n",
      "ax                 716681 non-null float64\n",
      "az                 716681 non-null float64\n",
      "ay                 716681 non-null float64\n",
      "break_length       716681 non-null float64\n",
      "break_y            716681 non-null float64\n",
      "break_angle        716681 non-null float64\n",
      "pitch_type         716681 non-null object\n",
      "type_confidence    716681 non-null float64\n",
      "zone               716681 non-null float64\n",
      "nasty              716681 non-null float64\n",
      "spin_dir           716681 non-null float64\n",
      "spin_rate          716681 non-null float64\n",
      "cc                 27937 non-null object\n",
      "on_1b              216323 non-null float64\n",
      "on_2b              139703 non-null float64\n",
      "on_3b              71635 non-null float64\n",
      "created_at         718961 non-null object\n",
      "added_at           718961 non-null object\n",
      "modified_at        718961 non-null object\n",
      "modified_by        718961 non-null int64\n",
      "dtypes: float64(31), int64(25), object(20)\n",
      "memory usage: 416.9+ MB\n"
     ]
    }
   ],
   "source": [
    "pitches.info()"
   ]
  },
  {
   "cell_type": "code",
   "execution_count": 28,
   "metadata": {},
   "outputs": [
    {
     "name": "stdout",
     "output_type": "stream",
     "text": [
      "no.of rows that has nan value for the pitch_type feature 2280\n"
     ]
    }
   ],
   "source": [
    "# We know that pitch_type is our target feature so let's look into the null pitch_type values\n",
    "print('no.of rows that has nan value for the pitch_type feature', pitches.pitch_type.isnull().sum())"
   ]
  },
  {
   "cell_type": "code",
   "execution_count": 29,
   "metadata": {},
   "outputs": [],
   "source": [
    "#Since theses rows won't benefit our model, we can remove them from the dataset\n",
    "pitches = pitches.drop(pitches[pitches.pitch_type.isnull()].index, axis = 0)"
   ]
  },
  {
   "cell_type": "code",
   "execution_count": 30,
   "metadata": {},
   "outputs": [
    {
     "data": {
      "text/plain": [
       "(716681, 61)"
      ]
     },
     "execution_count": 30,
     "metadata": {},
     "output_type": "execute_result"
    }
   ],
   "source": [
    "#based on my intutuion and a little help from my wife who knows more about baseball than me, I will drop some irrelevant features\n",
    "\n",
    "dropped_features = ['pitch_tfs_zulu', 'pitch_tfs', 'final_outs', 'at_bat_des','type_confidence', 'modified_by', 'modified_at',\n",
    "'added_at', 'date', 'sv_id', 'created_at', 'start_tfs', 'start_tfs_zulu', 'year', 'game_pk']\n",
    "pitches = pitches.drop(dropped_features, axis = 1)\n",
    "pitches.shape"
   ]
  },
  {
   "cell_type": "code",
   "execution_count": 31,
   "metadata": {},
   "outputs": [
    {
     "name": "stdout",
     "output_type": "stream",
     "text": [
      "<class 'pandas.core.frame.DataFrame'>\n",
      "Int64Index: 716681 entries, 26 to 718960\n",
      "Data columns (total 61 columns):\n",
      "uid               716681 non-null int64\n",
      "team_id_b         716681 non-null int64\n",
      "team_id_p         716681 non-null int64\n",
      "inning            716681 non-null int64\n",
      "top               716681 non-null int64\n",
      "at_bat_num        716681 non-null int64\n",
      "pcount_at_bat     716681 non-null int64\n",
      "pcount_pitcher    716681 non-null int64\n",
      "balls             716681 non-null int64\n",
      "strikes           716681 non-null int64\n",
      "fouls             716681 non-null int64\n",
      "outs              716681 non-null int64\n",
      "is_final_pitch    716681 non-null int64\n",
      "final_balls       716681 non-null int64\n",
      "final_strikes     716681 non-null int64\n",
      "batter_id         716681 non-null int64\n",
      "stand             716681 non-null object\n",
      "b_height          716681 non-null object\n",
      "pitcher_id        716681 non-null int64\n",
      "p_throws          716681 non-null object\n",
      "event             716681 non-null object\n",
      "event2            8281 non-null object\n",
      "event3            334 non-null object\n",
      "event4            23 non-null object\n",
      "away_team_runs    716681 non-null int64\n",
      "home_team_runs    716681 non-null int64\n",
      "score             55950 non-null object\n",
      "pitch_des         716681 non-null object\n",
      "pitch_id          716681 non-null int64\n",
      "type              716681 non-null object\n",
      "x                 716681 non-null float64\n",
      "y                 716681 non-null float64\n",
      "start_speed       716681 non-null float64\n",
      "end_speed         716681 non-null float64\n",
      "sz_top            716681 non-null float64\n",
      "sz_bot            716681 non-null float64\n",
      "pfx_x             716681 non-null float64\n",
      "pfx_z             716681 non-null float64\n",
      "px                716681 non-null float64\n",
      "pz                716681 non-null float64\n",
      "x0                716681 non-null float64\n",
      "z0                716681 non-null float64\n",
      "y0                716681 non-null float64\n",
      "vx0               716681 non-null float64\n",
      "vz0               716681 non-null float64\n",
      "vy0               716681 non-null float64\n",
      "ax                716681 non-null float64\n",
      "az                716681 non-null float64\n",
      "ay                716681 non-null float64\n",
      "break_length      716681 non-null float64\n",
      "break_y           716681 non-null float64\n",
      "break_angle       716681 non-null float64\n",
      "pitch_type        716681 non-null object\n",
      "zone              716681 non-null float64\n",
      "nasty             716681 non-null float64\n",
      "spin_dir          716681 non-null float64\n",
      "spin_rate         716681 non-null float64\n",
      "cc                27905 non-null object\n",
      "on_1b             215726 non-null float64\n",
      "on_2b             139110 non-null float64\n",
      "on_3b             71223 non-null float64\n",
      "dtypes: float64(29), int64(20), object(12)\n",
      "memory usage: 339.0+ MB\n"
     ]
    }
   ],
   "source": [
    "# let's look at the types of features we have again\n",
    "pitches.info()"
   ]
  },
  {
   "cell_type": "code",
   "execution_count": 32,
   "metadata": {},
   "outputs": [
    {
     "data": {
      "image/png": "[encoded data removed]",
      "text/plain": [
       "<Figure size 432x288 with 1 Axes>"
      ]
     },
     "metadata": {
      "needs_background": "light"
     },
     "output_type": "display_data"
    }
   ],
   "source": [
    "#ok now let's have a closer look at our target feature and see how balanced is the dataset\n",
    "(pitches.groupby('pitch_type').count()['uid']/len(pitches)).plot.bar(ylim=0)\n",
    "plt.show()"
   ]
  },
  {
   "cell_type": "markdown",
   "metadata": {},
   "source": [
    "#####  we can see a class imbalance in the distribution. FF is the most common one."
   ]
  },
  {
   "cell_type": "code",
   "execution_count": 33,
   "metadata": {},
   "outputs": [
    {
     "data": {
      "text/plain": [
       "FF    238541\n",
       "SL    109756\n",
       "SI     87740\n",
       "FT     81056\n",
       "CH     72641\n",
       "CU     56379\n",
       "FC     41702\n",
       "FS     10503\n",
       "KC      8490\n",
       "KN      4450\n",
       "IN      4058\n",
       "PO       559\n",
       "FO       329\n",
       "FA       204\n",
       "EP       134\n",
       "SC       120\n",
       "UN        17\n",
       "AB         2\n",
       "Name: pitch_type, dtype: int64"
      ]
     },
     "execution_count": 33,
     "metadata": {},
     "output_type": "execute_result"
    }
   ],
   "source": [
    "pitches.pitch_type.value_counts()"
   ]
  },
  {
   "cell_type": "code",
   "execution_count": 34,
   "metadata": {},
   "outputs": [],
   "source": [
    "# We can drop AB and UN due to low value counts\n",
    "pitches = pitches[pitches['pitch_type'] != 'AB']\n",
    "pitches = pitches[pitches['pitch_type'] != 'UN']"
   ]
  },
  {
   "cell_type": "code",
   "execution_count": 35,
   "metadata": {},
   "outputs": [],
   "source": [
    "# We can write a function to turn batter height from object to int\n",
    "def change_ht(ht):\n",
    "    ht_ = ht.split(\"-\")\n",
    "    ft_ = int(ht_[0])\n",
    "    in_ = int(ht_[1].replace(\"\\\"\",\"\"))\n",
    "    return (12*ft_) + in_\n",
    "\n",
    "pitches['batter_height_in_inches'] = (pitches['b_height'].apply(lambda x:change_ht(x))).astype(int)\n",
    "pitches = pitches.drop('b_height', axis = 1)"
   ]
  },
  {
   "cell_type": "code",
   "execution_count": 36,
   "metadata": {},
   "outputs": [],
   "source": [
    "#Agian I will do another round of dropping features that's somehow irrelevant to the pitch type\n",
    "dropped_features_2 = ['on_1b', 'on_2b', 'on_3b', 'cc', 'event2', 'event3', 'event4', 'score', 'uid', 'nasty']\n",
    "\n",
    "pitches = pitches.drop(dropped_features_2, axis = 1)\n"
   ]
  },
  {
   "cell_type": "code",
   "execution_count": 37,
   "metadata": {},
   "outputs": [
    {
     "data": {
      "text/plain": [
       "(716662, 51)"
      ]
     },
     "execution_count": 37,
     "metadata": {},
     "output_type": "execute_result"
    }
   ],
   "source": [
    "pitches.shape"
   ]
  },
  {
   "cell_type": "markdown",
   "metadata": {},
   "source": [
    "#### While that may look like I am throwing away a large portion of the dataset by dropping all of these columns, many of these columns were almost completely null values. The remainder were either so sparse they contributed very little data or were in my view unrelated to the current prediction task."
   ]
  },
  {
   "cell_type": "markdown",
   "metadata": {},
   "source": [
    "#### now it's time to choose a model for our dataset. I had several thoughts on which model I should choose,  since I am concerned with overfitting and since Random Forest Random forest is an ensemble method in which a classifier is constructed by combining several different Independent base classifiers. I decided to go with Random Forest"
   ]
  },
  {
   "cell_type": "markdown",
   "metadata": {},
   "source": [
    "# (2) Feature Engineering"
   ]
  },
  {
   "cell_type": "code",
   "execution_count": 38,
   "metadata": {},
   "outputs": [
    {
     "name": "stdout",
     "output_type": "stream",
     "text": [
      "<class 'pandas.core.frame.DataFrame'>\n",
      "Int64Index: 716662 entries, 26 to 718960\n",
      "Data columns (total 51 columns):\n",
      "team_id_b                  716662 non-null int64\n",
      "team_id_p                  716662 non-null int64\n",
      "inning                     716662 non-null int64\n",
      "top                        716662 non-null int64\n",
      "at_bat_num                 716662 non-null int64\n",
      "pcount_at_bat              716662 non-null int64\n",
      "pcount_pitcher             716662 non-null int64\n",
      "balls                      716662 non-null int64\n",
      "strikes                    716662 non-null int64\n",
      "fouls                      716662 non-null int64\n",
      "outs                       716662 non-null int64\n",
      "is_final_pitch             716662 non-null int64\n",
      "final_balls                716662 non-null int64\n",
      "final_strikes              716662 non-null int64\n",
      "batter_id                  716662 non-null int64\n",
      "stand                      716662 non-null object\n",
      "pitcher_id                 716662 non-null int64\n",
      "p_throws                   716662 non-null object\n",
      "event                      716662 non-null object\n",
      "away_team_runs             716662 non-null int64\n",
      "home_team_runs             716662 non-null int64\n",
      "pitch_des                  716662 non-null object\n",
      "pitch_id                   716662 non-null int64\n",
      "type                       716662 non-null object\n",
      "x                          716662 non-null float64\n",
      "y                          716662 non-null float64\n",
      "start_speed                716662 non-null float64\n",
      "end_speed                  716662 non-null float64\n",
      "sz_top                     716662 non-null float64\n",
      "sz_bot                     716662 non-null float64\n",
      "pfx_x                      716662 non-null float64\n",
      "pfx_z                      716662 non-null float64\n",
      "px                         716662 non-null float64\n",
      "pz                         716662 non-null float64\n",
      "x0                         716662 non-null float64\n",
      "z0                         716662 non-null float64\n",
      "y0                         716662 non-null float64\n",
      "vx0                        716662 non-null float64\n",
      "vz0                        716662 non-null float64\n",
      "vy0                        716662 non-null float64\n",
      "ax                         716662 non-null float64\n",
      "az                         716662 non-null float64\n",
      "ay                         716662 non-null float64\n",
      "break_length               716662 non-null float64\n",
      "break_y                    716662 non-null float64\n",
      "break_angle                716662 non-null float64\n",
      "pitch_type                 716662 non-null object\n",
      "zone                       716662 non-null float64\n",
      "spin_dir                   716662 non-null float64\n",
      "spin_rate                  716662 non-null float64\n",
      "batter_height_in_inches    716662 non-null int32\n",
      "dtypes: float64(25), int32(1), int64(19), object(6)\n",
      "memory usage: 281.6+ MB\n"
     ]
    }
   ],
   "source": [
    "pitches.info()"
   ]
  },
  {
   "cell_type": "markdown",
   "metadata": {},
   "source": [
    "#### So we have 5 coloumns as objects plus the Target feature. Since I will be using the random forest, I will use hot encoding to convert these objects into int's.\n"
   ]
  },
  {
   "cell_type": "code",
   "execution_count": 39,
   "metadata": {},
   "outputs": [],
   "source": [
    "\n",
    "from sklearn.preprocessing import LabelBinarizer\n",
    "type_b = LabelBinarizer()\n",
    "stand_b = LabelBinarizer()\n",
    "p_throws_b = LabelBinarizer()\n",
    "pitch_des_b = LabelBinarizer()\n",
    "event_b = LabelBinarizer()\n",
    "\n",
    "\n",
    "new_type = type_b.fit_transform(pitches.type.values)\n",
    "new_stand = stand_b.fit_transform(pitches.stand.values)\n",
    "new_p_throws = p_throws_b.fit_transform(pitches.p_throws.values)\n",
    "new_pitch_des = pitch_des_b.fit_transform(pitches.pitch_des.values)\n",
    "new_event = event_b.fit_transform(pitches.event.values)"
   ]
  },
  {
   "cell_type": "code",
   "execution_count": 40,
   "metadata": {},
   "outputs": [
    {
     "name": "stdout",
     "output_type": "stream",
     "text": [
      "[[0 1 0]\n",
      " [1 0 0]\n",
      " [1 0 0]\n",
      " [0 1 0]\n",
      " [0 1 0]\n",
      " [1 0 0]\n",
      " [0 1 0]\n",
      " [0 1 0]\n",
      " [0 1 0]\n",
      " [0 1 0]]\n"
     ]
    }
   ],
   "source": [
    "# Let's see if it converted correctly\n",
    "print(new_type[0:10])"
   ]
  },
  {
   "cell_type": "code",
   "execution_count": 41,
   "metadata": {},
   "outputs": [
    {
     "name": "stdout",
     "output_type": "stream",
     "text": [
      "(716662, 3)\n",
      "(716662, 1)\n",
      "(716662, 1)\n",
      "(716662, 17)\n",
      "(716662, 30)\n"
     ]
    }
   ],
   "source": [
    "print(new_type.shape)\n",
    "print(new_stand.shape)\n",
    "print(new_p_throws.shape)\n",
    "print(new_pitch_des.shape)\n",
    "print(new_event.shape)"
   ]
  },
  {
   "cell_type": "markdown",
   "metadata": {},
   "source": [
    "##### Using LabelBinarizer form scikit learn, I have replaced the categorical (object type) data into columns of binary integers, this will preserve \n",
    "\n",
    "##### the information of these columns while still allowing them to be processed by the random forest. Now I will drop the original \n",
    "\n",
    "##### columns from the dataset and replace them with the numpy arrays generated by LabelBinarizer.\n"
   ]
  },
  {
   "cell_type": "code",
   "execution_count": 42,
   "metadata": {},
   "outputs": [],
   "source": [
    "# Also I will drop the feature coloumn for now \n",
    "pitches_final = pitches.drop(['type', 'stand', 'p_throws', 'pitch_des', 'event', 'pitch_type'], axis=1)"
   ]
  },
  {
   "cell_type": "code",
   "execution_count": 43,
   "metadata": {},
   "outputs": [],
   "source": [
    "# So for the first three features \n",
    "pitches_final['new_type_0'] = new_type[:, 0]\n",
    "pitches_final['new_type_1'] = new_type[:, 1]\n",
    "pitches_final['new_type_2'] = new_type[:, 2]\n",
    "pitches_final['new_stand'] = new_stand[:, 0]\n",
    "pitches_final['new_p_throws'] = new_p_throws[:, 0]"
   ]
  },
  {
   "cell_type": "code",
   "execution_count": null,
   "metadata": {},
   "outputs": [],
   "source": [
    "# and for the remaining two features we will write this function\n",
    "def column_creator(df, column, column_name):\n",
    "    for i in range(column.shape[1]):\n",
    "        df[column_name + '_' + str(i)] = column[:, i] "
   ]
  },
  {
   "cell_type": "code",
   "execution_count": null,
   "metadata": {},
   "outputs": [],
   "source": [
    "column_creator(pitches_final, new_pitch_des, 'new_pitch_des')\n",
    "column_creator(pitches_final, new_event, 'new_event')"
   ]
  },
  {
   "cell_type": "code",
   "execution_count": null,
   "metadata": {},
   "outputs": [
    {
     "data": {
      "text/plain": [
       "Index(['team_id_b', 'team_id_p', 'inning', 'top', 'at_bat_num',\n",
       "       'pcount_at_bat', 'pcount_pitcher', 'balls', 'strikes', 'fouls', 'outs',\n",
       "       'is_final_pitch', 'final_balls', 'final_strikes', 'batter_id',\n",
       "       'pitcher_id', 'away_team_runs', 'home_team_runs', 'pitch_id', 'x', 'y',\n",
       "       'start_speed', 'end_speed', 'sz_top', 'sz_bot', 'pfx_x', 'pfx_z', 'px',\n",
       "       'pz', 'x0', 'z0', 'y0', 'vx0', 'vz0', 'vy0', 'ax', 'az', 'ay',\n",
       "       'break_length', 'break_y', 'break_angle', 'zone', 'spin_dir',\n",
       "       'spin_rate', 'batter_height_in_inches', 'new_type_0', 'new_type_1',\n",
       "       'new_type_2', 'new_stand', 'new_p_throws', 'new_pitch_des_0',\n",
       "       'new_pitch_des_1', 'new_pitch_des_2', 'new_pitch_des_3',\n",
       "       'new_pitch_des_4', 'new_pitch_des_5', 'new_pitch_des_6',\n",
       "       'new_pitch_des_7', 'new_pitch_des_8', 'new_pitch_des_9',\n",
       "       'new_pitch_des_10', 'new_pitch_des_11', 'new_pitch_des_12',\n",
       "       'new_pitch_des_13', 'new_pitch_des_14', 'new_pitch_des_15',\n",
       "       'new_pitch_des_16', 'new_event_0', 'new_event_1', 'new_event_2',\n",
       "       'new_event_3', 'new_event_4', 'new_event_5', 'new_event_6',\n",
       "       'new_event_7', 'new_event_8', 'new_event_9', 'new_event_10',\n",
       "       'new_event_11', 'new_event_12', 'new_event_13', 'new_event_14',\n",
       "       'new_event_15', 'new_event_16', 'new_event_17', 'new_event_18',\n",
       "       'new_event_19', 'new_event_20', 'new_event_21', 'new_event_22',\n",
       "       'new_event_23', 'new_event_24', 'new_event_25', 'new_event_26',\n",
       "       'new_event_27', 'new_event_28', 'new_event_29'],\n",
       "      dtype='object')"
      ]
     },
     "execution_count": 46,
     "metadata": {},
     "output_type": "execute_result"
    }
   ],
   "source": [
    "# Now let's make sure the columns are being properly added to the original dataset.\n",
    "pitches_final.columns"
   ]
  },
  {
   "cell_type": "code",
   "execution_count": null,
   "metadata": {},
   "outputs": [
    {
     "name": "stdout",
     "output_type": "stream",
     "text": [
      "<class 'pandas.core.frame.DataFrame'>\n",
      "Int64Index: 716662 entries, 26 to 718960\n",
      "Data columns (total 97 columns):\n",
      "team_id_b                  716662 non-null int64\n",
      "team_id_p                  716662 non-null int64\n",
      "inning                     716662 non-null int64\n",
      "top                        716662 non-null int64\n",
      "at_bat_num                 716662 non-null int64\n",
      "pcount_at_bat              716662 non-null int64\n",
      "pcount_pitcher             716662 non-null int64\n",
      "balls                      716662 non-null int64\n",
      "strikes                    716662 non-null int64\n",
      "fouls                      716662 non-null int64\n",
      "outs                       716662 non-null int64\n",
      "is_final_pitch             716662 non-null int64\n",
      "final_balls                716662 non-null int64\n",
      "final_strikes              716662 non-null int64\n",
      "batter_id                  716662 non-null int64\n",
      "pitcher_id                 716662 non-null int64\n",
      "away_team_runs             716662 non-null int64\n",
      "home_team_runs             716662 non-null int64\n",
      "pitch_id                   716662 non-null int64\n",
      "x                          716662 non-null float64\n",
      "y                          716662 non-null float64\n",
      "start_speed                716662 non-null float64\n",
      "end_speed                  716662 non-null float64\n",
      "sz_top                     716662 non-null float64\n",
      "sz_bot                     716662 non-null float64\n",
      "pfx_x                      716662 non-null float64\n",
      "pfx_z                      716662 non-null float64\n",
      "px                         716662 non-null float64\n",
      "pz                         716662 non-null float64\n",
      "x0                         716662 non-null float64\n",
      "z0                         716662 non-null float64\n",
      "y0                         716662 non-null float64\n",
      "vx0                        716662 non-null float64\n",
      "vz0                        716662 non-null float64\n",
      "vy0                        716662 non-null float64\n",
      "ax                         716662 non-null float64\n",
      "az                         716662 non-null float64\n",
      "ay                         716662 non-null float64\n",
      "break_length               716662 non-null float64\n",
      "break_y                    716662 non-null float64\n",
      "break_angle                716662 non-null float64\n",
      "zone                       716662 non-null float64\n",
      "spin_dir                   716662 non-null float64\n",
      "spin_rate                  716662 non-null float64\n",
      "batter_height_in_inches    716662 non-null int32\n",
      "new_type_0                 716662 non-null int32\n",
      "new_type_1                 716662 non-null int32\n",
      "new_type_2                 716662 non-null int32\n",
      "new_stand                  716662 non-null int32\n",
      "new_p_throws               716662 non-null int32\n",
      "new_pitch_des_0            716662 non-null int32\n",
      "new_pitch_des_1            716662 non-null int32\n",
      "new_pitch_des_2            716662 non-null int32\n",
      "new_pitch_des_3            716662 non-null int32\n",
      "new_pitch_des_4            716662 non-null int32\n",
      "new_pitch_des_5            716662 non-null int32\n",
      "new_pitch_des_6            716662 non-null int32\n",
      "new_pitch_des_7            716662 non-null int32\n",
      "new_pitch_des_8            716662 non-null int32\n",
      "new_pitch_des_9            716662 non-null int32\n",
      "new_pitch_des_10           716662 non-null int32\n",
      "new_pitch_des_11           716662 non-null int32\n",
      "new_pitch_des_12           716662 non-null int32\n",
      "new_pitch_des_13           716662 non-null int32\n",
      "new_pitch_des_14           716662 non-null int32\n",
      "new_pitch_des_15           716662 non-null int32\n",
      "new_pitch_des_16           716662 non-null int32\n",
      "new_event_0                716662 non-null int32\n",
      "new_event_1                716662 non-null int32\n",
      "new_event_2                716662 non-null int32\n",
      "new_event_3                716662 non-null int32\n",
      "new_event_4                716662 non-null int32\n",
      "new_event_5                716662 non-null int32\n",
      "new_event_6                716662 non-null int32\n",
      "new_event_7                716662 non-null int32\n",
      "new_event_8                716662 non-null int32\n",
      "new_event_9                716662 non-null int32\n",
      "new_event_10               716662 non-null int32\n",
      "new_event_11               716662 non-null int32\n",
      "new_event_12               716662 non-null int32\n",
      "new_event_13               716662 non-null int32\n",
      "new_event_14               716662 non-null int32\n",
      "new_event_15               716662 non-null int32\n",
      "new_event_16               716662 non-null int32\n",
      "new_event_17               716662 non-null int32\n",
      "new_event_18               716662 non-null int32\n",
      "new_event_19               716662 non-null int32\n",
      "new_event_20               716662 non-null int32\n",
      "new_event_21               716662 non-null int32\n",
      "new_event_22               716662 non-null int32\n",
      "new_event_23               716662 non-null int32\n",
      "new_event_24               716662 non-null int32\n",
      "new_event_25               716662 non-null int32\n",
      "new_event_26               716662 non-null int32\n",
      "new_event_27               716662 non-null int32\n",
      "new_event_28               716662 non-null int32\n",
      "new_event_29               716662 non-null int32\n",
      "dtypes: float64(25), int32(53), int64(19)\n",
      "memory usage: 390.9 MB\n",
      "None\n",
      "(716662, 97)\n"
     ]
    }
   ],
   "source": [
    "print(pitches_final.info())\n",
    "print(pitches_final.shape)"
   ]
  },
  {
   "cell_type": "code",
   "execution_count": null,
   "metadata": {},
   "outputs": [],
   "source": [
    "pitches_final = pitches_final.astype(np.float32)"
   ]
  },
  {
   "cell_type": "markdown",
   "metadata": {},
   "source": [
    "# (3)  Building the Model"
   ]
  },
  {
   "cell_type": "code",
   "execution_count": null,
   "metadata": {},
   "outputs": [],
   "source": [
    "# we will use sklearn model selection since it's a useful tool for dividing up the data to train and test.\n",
    "from sklearn.model_selection import train_test_split\n",
    "X_train, X_test, y_train, y_test = train_test_split(pitches_final, pitches['pitch_type'], test_size = 0.2)\n",
    "\n",
    "\n",
    "#note that here we called our target feature(pitch_type since we dropped early in the code)"
   ]
  },
  {
   "cell_type": "code",
   "execution_count": null,
   "metadata": {},
   "outputs": [
    {
     "name": "stdout",
     "output_type": "stream",
     "text": [
      "Accuracy on training set: 0.996\n",
      "Accuracy on test set: 0.889\n"
     ]
    }
   ],
   "source": [
    "from sklearn.ensemble import RandomForestClassifier \n",
    "\n",
    "rfc = RandomForestClassifier(n_estimators=10, max_features=20)\n",
    "rfc.fit(X_train, y_train)\n",
    "rfc.score(X_train, y_train)\n",
    "print(\"Accuracy on training set: {:.3f}\".format(rfc.score(X_train, y_train)))\n",
    "print(\"Accuracy on test set: {:.3f}\".format(rfc.score(X_test, y_test)))"
   ]
  },
  {
   "cell_type": "code",
   "execution_count": null,
   "metadata": {},
   "outputs": [],
   "source": [
    "# I have a decent PC so I can increase the max Features and see what I get"
   ]
  },
  {
   "cell_type": "code",
   "execution_count": null,
   "metadata": {},
   "outputs": [],
   "source": [
    "from sklearn.ensemble import RandomForestClassifier \n",
    "\n",
    "rfc = RandomForestClassifier(n_estimators=10, max_features=90)\n",
    "rfc.fit(X_train, y_train)\n",
    "rfc.score(X_train, y_train)\n",
    "print(\"Accuracy on training set: {:.3f}\".format(rfc.score(X_train, y_train)))\n",
    "print(\"Accuracy on test set: {:.3f}\".format(rfc.score(X_test, y_test)))"
   ]
  },
  {
   "cell_type": "markdown",
   "metadata": {},
   "source": [
    "#### We can see that it overfitted on the training data but we were able to get 93.5% accuracy on the test set, There are some things I would incorporate in future models as I deploy them in the real world. "
   ]
  },
  {
   "cell_type": "markdown",
   "metadata": {},
   "source": [
    "\n",
    "\n",
    "# How to further improve the model\n",
    "\n",
    "\n",
    "### To futher improve upon the model of predicting the next pitch we can also perform gridsearch using ROC-score as the metric to find optimal parameters for our model.\n",
    "\n",
    "\n",
    "### We can compare results with other classification models.\n",
    "\n",
    "\n",
    "### It is also possible to add last years data for each player\n",
    "\n",
    "\n",
    "\n",
    "### We can try to combine data from specific batter-pitcher matchups to fine-tune the predictions\n",
    "\n",
    "### try to pay attention to the sequence aspect present in real games so that the model can be aware of what the pitcher threw in the past 2 or 3 pitches as pitchers are known to set up pitches."
   ]
  },
  {
   "cell_type": "markdown",
   "metadata": {},
   "source": [
    "# Thank you"
   ]
  },
  {
   "cell_type": "code",
   "execution_count": null,
   "metadata": {},
   "outputs": [],
   "source": []
  }
 ],
 "metadata": {
  "kernelspec": {
   "display_name": "Python 3",
   "language": "python",
   "name": "python3"
  },
  "language_info": {
   "codemirror_mode": {
    "name": "ipython",
    "version": 3
   },
   "file_extension": ".py",
   "mimetype": "text/x-python",
   "name": "python",
   "nbconvert_exporter": "python",
   "pygments_lexer": "ipython3",
   "version": "3.6.7"
  }
 },
 "nbformat": 4,
 "nbformat_minor": 2
}
